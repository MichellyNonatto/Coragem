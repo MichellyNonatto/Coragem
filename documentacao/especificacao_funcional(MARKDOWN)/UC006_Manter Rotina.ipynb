{
 "cells": [
  {
   "cell_type": "markdown",
   "metadata": {},
   "source": [
    "***\n",
    "\n",
    "# CPC - Creche Pet Coragem\n",
    "***"
   ]
  },
  {
   "cell_type": "markdown",
   "metadata": {},
   "source": [
    "## ESPECIFICAÇÃO FUNCIONAL\n",
    "### UC006 - Manter Rotina"
   ]
  },
  {
   "cell_type": "markdown",
   "metadata": {},
   "source": [
    "| | | | _Controle de versões_ |\n",
    "| :------- | :------: | :------: | :------ |  \n",
    "| **Nome Completo** | **Data Criação** | **Data Revisão** | **Descrição**  |\n",
    "| <small> Michelly Victoria Nonato Coelho</small> | <small> 16-10-2023  </small>  | <small> 16-10-2023 </small> | <small> Criação do documento. </small>"
   ]
  },
  {
   "cell_type": "markdown",
   "metadata": {},
   "source": [
    "### Descrição Resumida do Caso de Uso\n",
    "<small> Esse caso tem como objetivo fazer atividade de CRUD nas informações de rotina do pet.</small>"
   ]
  },
  {
   "cell_type": "markdown",
   "metadata": {},
   "source": [
    "| | |\n",
    "| :------- | :------ |\n",
    "| **Atores** | Funcionário|  \n",
    "| **Pré-Condição** | Deve haver a existencia de um pet e um funcionário responsável pelo cuidado, cadastrados na base de dados. |  \n",
    "| **Fluxo Principal** | **P01.** O funcionário clica em `\"Rotinas\"`. <br> **P02.** O sistema direciona para a Interface019 com uma lista de serviços fornecidos pela empresa. <br> **P03.** O funcionário seleciona o serviço desejado. <br> **P04.** O sistema direciona a Interface020 que terá a listagem de animais cadastrados naquele serviço. <br> **P05.** O funcionário pode cadastrar um pet existente no serviço clicando em `\"Adicionar novo pet\"`, sendo direcionado a Interface021. <br> **P06.** Para cada pet existirá um campo de observação a ser preenchido. <br> **P07.** Fim do caso UC006. |\n",
    "| **Fluxo Alternativos** | **A01 [P02] - Pesquisa serviços** <br> 1. O funcionário pode perquisar o serviço pelo seu nome. <br> 2. O sistema retorna o serviços existentes com base na pesquisa feita pelo funcionário. <br> **A02 [P04]  - Pesquisar Pet** <br> 1. O funcionário pesquisa o pet com base no seu nome. <br> 2. O sistema retorna as informações com base na pesquisa feita. <br> **A03 [P04] - Turmas** <br> 1. O sistema retorna a listagem de animais separadas em turmas. <br> **A04 [P06] - Observação de comportamento** <br> 1. O sistema irá disponibilizar um campo de texto para cada pet. <br> 2. O funcionário irá preencher com as informações de comportamento do pet conforme o serviço realizado. <br> 3. O sistema irá pegar diáriamente informações de cada pet conforme serviços e enviará para o tutor com as observações do funcionário.| \n",
    "| **Exceções** | **E01 [A01.1] - Serviço não encontrado** <br> 1. O sistema retorna a mensagem MSG001. <br> 2. O sistema retorna a Interface019. <br> **E02 [A02.1] - Pet não encontrado** <br> 1. O sistema retorna a mensagem MSG002. <br> 2. O sistema retorna a Interface019. <br>  **E03 [A03.1] - Turma cheia** <br> 1. O sistema retorna a mesangem MSG003. <br> 2. O sistema retorna a Interface019. <br> | \n",
    "| **Produtos Gerados** | Relatório de comportamento do pet. | \n",
    "| **Requisitos** | O sistema deve armazenar um check-list de serviços oferecidos para o animal no dia. <br> O sistema deve enviar relatórios de comportamento simples para o tutor via e-mail. <br> O sistema deve permitir o envio de rotina e eventos via e-mail para os tutores.| \n",
    "| **Regras de Negócio** | Não se aplica. | \n",
    "| **Casos de Uso Incluídos** | UC007 - Enviar e-mail | \n",
    "| **Casos de Uso Estendidos** |  Não se aplica. | "
   ]
  },
  {
   "cell_type": "markdown",
   "metadata": {},
   "source": [
    "| Listagem de Mensagens | |\n",
    "| :-------: | :------ |\n",
    "| MSG001 | O serviço não foi encontrado na nossa base de dados. |\n",
    "| MSG002 | O pet não foi encontrado na nossa base de dados. |\n",
    "| MSG003 | A turma que você está tentando cadastrar um novo pet, está lotada. |"
   ]
  },
  {
   "cell_type": "markdown",
   "metadata": {},
   "source": [
    "### Protótipos de Interfaces  \n",
    "\n",
    "### Interface019 - Serviços\n",
    "<br>\n",
    "<img src=\"img/UC006 (manterRotina)/Interface019 (serviços).jpg\">\n",
    "\n",
    "### Interface020 - Turmas\n",
    "<br>\n",
    "<img src=\"img/UC006 (manterRotina)/Interface020 (turmas).jpg\">\n",
    "\n",
    "### Interface021 - Adicionar Pet a Turma\n",
    "<br>\n",
    "<img src=\"img/UC006 (manterRotina)/Interface021 (adicionarPetATurma).jpg\">"
   ]
  },
  {
   "cell_type": "markdown",
   "metadata": {},
   "source": [
    "***\n",
    "_<small> Curso Análise e Desenvolvimento de Sistemas (ADS) - Análise Orientada a Objetos (AOOI3) - 3o. módulo. <br>Modelo e formato elaborado por profa. Ana Paula Müller Giancoli - BSD 2-Clause License. - Setembro.2020.</small>_ "
   ]
  },
  {
   "cell_type": "markdown",
   "metadata": {},
   "source": [
    "<div vw class=\"enabled\">\n",
    "    <div vw-access-button class=\"active\"></div>\n",
    "    <div vw-plugin-wrapper>\n",
    "      <div class=\"vw-plugin-top-wrapper\"></div>\n",
    "    </div>\n",
    "</div>\n",
    "<script src=\"https://vlibras.gov.br/app/vlibras-plugin.js\"></script>\n",
    "<script>\n",
    "    new window.VLibras.Widget('https://vlibras.gov.br/app');\n",
    "</script>"
   ]
  }
 ],
 "metadata": {
  "kernelspec": {
   "display_name": "Python 3",
   "language": "python",
   "name": "python3"
  },
  "language_info": {
   "codemirror_mode": {
    "name": "ipython",
    "version": 3
   },
   "file_extension": ".py",
   "mimetype": "text/x-python",
   "name": "python",
   "nbconvert_exporter": "python",
   "pygments_lexer": "ipython3",
   "version": "3.7.3"
  },
  "latex_envs": {
   "LaTeX_envs_menu_present": true,
   "autoclose": false,
   "autocomplete": true,
   "bibliofile": "biblio.bib",
   "cite_by": "apalike",
   "current_citInitial": 1,
   "eqLabelWithNumbers": true,
   "eqNumInitial": 1,
   "hotkeys": {
    "equation": "Ctrl-E",
    "itemize": "Ctrl-I"
   },
   "labels_anchors": false,
   "latex_user_defs": false,
   "report_style_numbering": false,
   "user_envs_cfg": false
  }
 },
 "nbformat": 4,
 "nbformat_minor": 4
}

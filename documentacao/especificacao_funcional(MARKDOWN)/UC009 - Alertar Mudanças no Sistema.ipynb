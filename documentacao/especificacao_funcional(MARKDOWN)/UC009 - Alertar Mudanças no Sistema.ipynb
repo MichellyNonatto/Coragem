{
 "cells": [
  {
   "cell_type": "markdown",
   "metadata": {},
   "source": [
    "\n",
    "***\n",
    "\n",
    "# CPC - Creche Pet Coragem\n",
    "\n",
    "***"
   ]
  },
  {
   "cell_type": "markdown",
   "metadata": {},
   "source": [
    "## ESPECIFICAÇÃO FUNCIONAL\n",
    "### UC009 - Alertar Mudanças no Sistema   "
   ]
  },
  {
   "cell_type": "markdown",
   "metadata": {},
   "source": [
    "| | | | _Controle de versões_ |\n",
    "| :------- | :------: | :------: | :------ |  \n",
    "| **Nome Completo** | **Data Criação** | **Data Revisão** | **Descrição**  |\n",
    "| <small>Michelly Victoria Nonato Coelho</small> | <small> 17-10-2023</small>  | <small> 17-10-2023 </small> | <small> Criação do documento. </small>|"
   ]
  },
  {
   "cell_type": "markdown",
   "metadata": {},
   "source": [
    "### Descrição Resumida do Caso de Uso\n",
    "<small>Esse caso de uso tem como finalidade alertar seus usuários o as mudanças relevantes feitas no sistema.</small>"
   ]
  },
  {
   "cell_type": "markdown",
   "metadata": {},
   "source": [
    "| | |\n",
    "| :------- | :------ |\n",
    "| **Atores** | Gerente e Funcionário|  \n",
    "| **Pré-Condição** | O gerente ou funcinário devem estar autenticados pelo caso UC001. |  \n",
    "| **Fluxo Principal** | **P01.** O sistema diresiona para a Interface021. <br> **P02.** O usuário clica em `\"Dashboard\"`. <br> **P03.** O sistema retonar a Interface005. |\n",
    "| **Fluxo Alternativos** | **A01 [P01] - Notificação de atualização** <br> 1. O sistema executa o caso UC009 quando o administrador do sistema subir uma atualização. <br> 2. O sistema retorna ao seu fluxo normal.| \n",
    "| **Exceções** | **E01 [A01.1] - Não há novas atualizações** <br> 1. O sistema não executa o caso UC009.| \n",
    "| **Pós-Condição** |Não se aplica| \n",
    "| **Produtos Gerados** | Não se aplica| \n",
    "| **Requisitos** | O sistema deve avisar previamente aos funcionários e clientes o horário e dia da manutenção do mesmo. <br> O sistemas deve avisar novas utilidades implementadas no sistema quando for atualizado. | \n",
    "| **Regras de Negócio** | Não se aplica | \n",
    "| **Casos de Uso Incluídos** | Não se aplica | \n",
    "| **Casos de Uso Estendidos** |  Não se aplica | "
   ]
  },
  {
   "cell_type": "markdown",
   "metadata": {},
   "source": [
    "### Protótipos de Interfaces  \n",
    "\n",
    "### Interface022 - Atualização\n",
    "<br>\n",
    "<img src=\"img/UC009 - (alertarMudançasNoSistema)/Interface022 (atualização).jpg\">"
   ]
  },
  {
   "cell_type": "markdown",
   "metadata": {},
   "source": [
    "***\n",
    "_<small> Curso Análise e Desenvolvimento de Sistemas (ADS) - Análise Orientada a Objetos (AOOI3) - 3o. módulo. <br>Modelo e formato elaborado por profa. Ana Paula Müller Giancoli - BSD 2-Clause License. - Setembro.2020.</small>_ "
   ]
  },
  {
   "cell_type": "markdown",
   "metadata": {},
   "source": [
    "<div vw class=\"enabled\">\n",
    "    <div vw-access-button class=\"active\"></div>\n",
    "    <div vw-plugin-wrapper>\n",
    "      <div class=\"vw-plugin-top-wrapper\"></div>\n",
    "    </div>\n",
    "</div>\n",
    "<script src=\"https://vlibras.gov.br/app/vlibras-plugin.js\"></script>\n",
    "<script>\n",
    "    new window.VLibras.Widget('https://vlibras.gov.br/app');\n",
    "</script>"
   ]
  }
 ],
 "metadata": {
  "kernelspec": {
   "display_name": "Python 3",
   "language": "python",
   "name": "python3"
  },
  "language_info": {
   "codemirror_mode": {
    "name": "ipython",
    "version": 3
   },
   "file_extension": ".py",
   "mimetype": "text/x-python",
   "name": "python",
   "nbconvert_exporter": "python",
   "pygments_lexer": "ipython3",
   "version": "3.7.3"
  },
  "latex_envs": {
   "LaTeX_envs_menu_present": true,
   "autoclose": false,
   "autocomplete": true,
   "bibliofile": "biblio.bib",
   "cite_by": "apalike",
   "current_citInitial": 1,
   "eqLabelWithNumbers": true,
   "eqNumInitial": 1,
   "hotkeys": {
    "equation": "Ctrl-E",
    "itemize": "Ctrl-I"
   },
   "labels_anchors": false,
   "latex_user_defs": false,
   "report_style_numbering": false,
   "user_envs_cfg": false
  }
 },
 "nbformat": 4,
 "nbformat_minor": 4
}

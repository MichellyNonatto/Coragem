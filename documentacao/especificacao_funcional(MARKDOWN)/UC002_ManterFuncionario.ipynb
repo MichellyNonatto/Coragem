{
 "cells": [
  {
   "cell_type": "markdown",
   "metadata": {},
   "source": [
    "| | | |\n",
    "|:----------:|:---------:|:---------:|\n",
    "|![](../AOOI3-Fundo-200.jpg) | ![](../IFSP-BRA-100.jpg)  <br> Instituto Federal de São Paulo (IFSP) <br> [Campus Bragança Paulista/SP](https://bra.ifsp.edu.br)<br><br>**Análise e Desenvolvimento de Sistemas (ADS)** <br><br>**3o. módulo** <br> **Profa. Ana Paula Müller Giancoli**<br>paulagiancoli@ifsp.edu.br  | ![](../AOOI3-Fundo-200.jpg) |\n",
    "\n",
    "***\n",
    "\n",
    "# CPC - Creche Pet Coragem\n",
    "\n",
    "***"
   ]
  },
  {
   "cell_type": "markdown",
   "metadata": {},
   "source": [
    "## ESPECIFICAÇÃO FUNCIONAL\n",
    "### UC002 - Mater Funcionário"
   ]
  },
  {
   "cell_type": "markdown",
   "metadata": {},
   "source": [
    "| | | | _Controle de versões_ |\n",
    "| :------- | :------: | :------: | :------ |  \n",
    "| **Nome Completo** | **Data Criação** | **Data Revisão** | **Descrição**  |\n",
    "| <small><br>Marcelo Henrique Ribeiro<br>Thabata Cristine de Lima</small> | <small>20-09-2023</small>  | <small> 20-09-2023 </small> | <small> Criação do caso de uso Manter Funcionário </small>\n",
    "<br>\n",
    "| <small><br>Marcelo Henrique Ribeiro<br>Michelly Victoria Nonato Coelho<br>Paula Andrezza Gomes Marinho<br>Thabata Cristine de Lima</small> | <small>20-09-2023</small>  | <small> 27-09-2023 </small> | <small> Criação do documento. </small>\n",
    "<br>\n",
    "| <small>Michelly Victoria Nonato Coelho </small>  | <small>20-09-2023</small> | <small>15-10-2023</small> | <small>Reajuste de informações. </small>\n",
    "<br>"
   ]
  },
  {
   "cell_type": "markdown",
   "metadata": {},
   "source": [
    "### Descrição Resumida do Caso de Uso\n",
    "<br>\n",
    "<small> Este caso de uso tem como objetivo descrever as funcionalidades pertinentes ao Manter Funcionário, tal como, inserir, alterar ou remover funcionário. </small>"
   ]
  },
  {
   "cell_type": "markdown",
   "metadata": {},
   "source": []
  },
  {
   "cell_type": "markdown",
   "metadata": {},
   "source": [
    "| | |\n",
    "| :------- | :------ |\n",
    "| **Atores** | Gerente |  \n",
    "| **Pré-Condição** | O gerente deve ser autenticado no caso UC001. |  \n",
    "| **Fluxo Principal** | **P01.** Na Interface005 o gerente deve clicar em `\"Funcionários\"`, sendo direcionado para a Interface006. <br> **P02.** O sistema deve retornar uma lista dos funcionarios já cadastrados. <br> **P03.** O gerente deve escolher qual atividade CRUD ele irá realizar. <br> **P04.** O sistema deve retornar informação que foram cadastradas conforme o funcionário indicado pelo gerente. <br> **P05.** Em criar novo funcionário o sistema deve retornar os dados descritos na base de dados para o preenchimento do mesmo. <br> **P06.** O gerente clica em voltar. <br> **P07.** O sistema retorna a Interface005. <br>  |\n",
    "| **Fluxo Alternativos** | **A01 [P01] - Criar Funcionário** <br> 1. O gerente seleciona `\"Adicionar novo funcionário\"`, indo para a Interface007. <br> 2. O gerente informa os dados do novo funcionário conforme for solicitado. <br> 3. O gerente clica em `\"Adicionar\"`. <br> 4. O sistema retorna a Interface006. <br> **A02 [P02] - Alterar Funcionário** <br> 1. O gerente seleciona o funcionário a ser alterado, indo para a Interface008. <br> 2. O gerente seleciona `\"Editar funcionário\"`, sendo direcionado a Interface009. <br> 3. O gerente altera as informações necessárias. <br> 4. O gerente clica em `\"Confirmar alterações\"`. <br> 5. O sistema retorna a Interface006. <br> **A03 [P02] - Excluir Funcionário** <br> 1. O gerente seleciona o funcionário a ser excluído, indo para a Interface008. <br> 2. O gerente seleciona `\"Excluir funcionário\"`, sendo direcionado a Interface010. <br> 3. O gerente clica em `\"Confirmar exclusão\"`. <br> 4. O sistema retorna a Interface006. <br> | \n",
    "| **Exceções** | **E01 [A01.2] - Informação incompleta** <br> 1. O sistema exibe a mensagem MSG003. <br> 2. O sistema retorna a Interface007. <br> **E02 [A01.3] - Funcionário já existente** <br> 1. O sistema exibe a mensagem MSG004. <br> 2. O sistema retorna a Interface006. <br> | \n",
    "| **Pós-Condição** | **PC01 [A01.4]** <br> 1. O sistema exibe a mensagem MSG001. <br> **PC02 [A02.5]** <br> 1. O sistema exibe a mensagem MSG002. <br> **PC03 [A03.4]** <br> 1. O sistema exibe a mensagem MSG002.| \n",
    "| **Produtos Gerados** | Relatório de funcionários ativos e desligados da empresa. | \n",
    "| **Requisitos** | O sistema deve cadastrar os funcionários e suas funções: Nome Completo, Número de telefone, Logradouro, CEP, Documento (CPF ou RG), E-mail e Função. | \n",
    "| **Regras de Negócio** | **RN01** Para todos os funcionários deve ser criado um e-mail comercial da empresa. <br> **RN02** O sistema deve deletar o e-mail comercial do funcionário assim que o desligamento do mesmo for efetuado. <br> | \n",
    "| **Casos de Uso Incluídos** | Não se aplica. | \n",
    "| **Casos de Uso Estendidos** | Não se aplica. | "
   ]
  },
  {
   "cell_type": "markdown",
   "metadata": {},
   "source": [
    "| Listagem de Mensagens | |\n",
    "| :-------: | :------ | \n",
    "| MSG001 | Funcionário adicionado com suceeso! |\n",
    "| MSG002 | Alteração em funcionário salva com sucesso! |\n",
    "| MSG003 | As informações para adicionar um novo funcionário estão incompletas. Por favor, verifique e preencha os campos em branco.|\n",
    "| MSG004| O funcionário informado já existe em nossa base de dados. |"
   ]
  },
  {
   "cell_type": "markdown",
   "metadata": {},
   "source": [
    "### Protótipos de Interfaces  \n",
    "\n",
    "### Interface005 - Dashboard\n",
    "<br>\n",
    "<img src=\"img/UC002 (manter_funcionario)/Interface005 (dashboardFuncionario).jpg\">\n",
    "\n",
    "<img src=\"img/UC002 (manter_funcionario)/Interface005 (dashboardGerente).jpg\">\n",
    "\n",
    "\n",
    "### Interface006 - Funcionários\n",
    "<br>\n",
    "<img src=\"img/UC002 (manter_funcionario)/Interface006 (funcionarios).jpg\">\n",
    "\n",
    "\n",
    "### Interface007 - Adicionar novo funcionário\n",
    "<br>\n",
    "<img src=\"img/UC002 (manter_funcionario)/Interface007 (adicionarNovoFuncionario).jpg\">\n",
    "\n",
    "\n",
    "### Interface008 - Informações do funcionário \n",
    "<br>\n",
    "<img src=\"img/UC002 (manter_funcionario)/Interface008 (informacoesDoFuncionario).jpg\">\n",
    "\n",
    "\n",
    "### Interface009 - Alterar funcionário\n",
    "<br>\n",
    "<img src=\"img/UC002 (manter_funcionario)/Interface009 (alterarFuncionário).jpg\">\n",
    "\n",
    "\n",
    "### Interface010 - Apagar funcionário\n",
    "<br>\n",
    "<img src=\"img/UC002 (manter_funcionario)/Interface010 (apagarFuncionario).jpg\">"
   ]
  },
  {
   "cell_type": "markdown",
   "metadata": {},
   "source": [
    "***\n",
    "_<small> Curso Análise e Desenvolvimento de Sistemas (ADS) - Análise Orientada a Objetos (AOOI3) - 3o. módulo. <br>Modelo e formato elaborado por profa. Ana Paula Müller Giancoli - BSD 2-Clause License. - Setembro.2020.</small>_ "
   ]
  },
  {
   "cell_type": "markdown",
   "metadata": {},
   "source": [
    "<div vw class=\"enabled\">\n",
    "    <div vw-access-button class=\"active\"></div>\n",
    "    <div vw-plugin-wrapper>\n",
    "      <div class=\"vw-plugin-top-wrapper\"></div>\n",
    "    </div>\n",
    "</div>\n",
    "<script src=\"https://vlibras.gov.br/app/vlibras-plugin.js\"></script>\n",
    "<script>\n",
    "    new window.VLibras.Widget('https://vlibras.gov.br/app');\n",
    "</script>"
   ]
  }
 ],
 "metadata": {
  "kernelspec": {
   "display_name": "Python 3",
   "language": "python",
   "name": "python3"
  },
  "language_info": {
   "codemirror_mode": {
    "name": "ipython",
    "version": 3
   },
   "file_extension": ".py",
   "mimetype": "text/x-python",
   "name": "python",
   "nbconvert_exporter": "python",
   "pygments_lexer": "ipython3",
   "version": "3.9.13"
  },
  "latex_envs": {
   "LaTeX_envs_menu_present": true,
   "autoclose": false,
   "autocomplete": true,
   "bibliofile": "biblio.bib",
   "cite_by": "apalike",
   "current_citInitial": 1,
   "eqLabelWithNumbers": true,
   "eqNumInitial": 1,
   "hotkeys": {
    "equation": "Ctrl-E",
    "itemize": "Ctrl-I"
   },
   "labels_anchors": false,
   "latex_user_defs": false,
   "report_style_numbering": false,
   "user_envs_cfg": false
  }
 },
 "nbformat": 4,
 "nbformat_minor": 4
}

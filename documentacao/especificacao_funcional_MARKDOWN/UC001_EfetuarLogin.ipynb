{
 "cells": [
  {
   "cell_type": "markdown",
   "metadata": {},
   "source": [
    "| | | |\n",
    "|:__________:|:_________:|:_________:|\n",
    "|![](../AOOI3_Fundo_200.jpg) | ![](../IFSP_BRA_100.jpg)  <br> Instituto Federal de São Paulo (IFSP) <br> [Campus Bragança Paulista/SP](https://bra.ifsp.edu.br)<br><br>**Análise e Desenvolvimento de Sistemas (ADS)** <br><br>**3o. módulo** <br> **Profa. Ana Paula Müller Giancoli**<br>paulagiancoli@ifsp.edu.br  | ![](../AOOI3_Fundo_200.jpg) |\n",
    "\n",
    "***\n",
    "\n",
    "# CPC _ Creche Pet Coragem\n",
    "\n",
    "***"
   ]
  },
  {
   "cell_type": "markdown",
   "metadata": {},
   "source": [
    "## ESPECIFICAÇÃO FUNCIONAL\n",
    "### UC001 _ Efetuar Login    "
   ]
  },
  {
   "cell_type": "markdown",
   "metadata": {},
   "source": [
    "| | | | _Controle de versões_ |\n",
    "| :_______ | :______: | :______: | :______ |  \n",
    "| **Nome Completo** | **Data Criação** | **Data Revisão** | **Descrição**  |\n",
    "| <small><br>Marcelo Henrique Ribeiro<br>Michelly Victoria Nonato Coelho <br> Paula Andrezza Gomes Marinho<br>Thabata Cristine de Lima</small> | <small>13_09_2023</small>  | <small> 13_09_2023 </small> | <small> Criação do documento. </small>|\n",
    "| <small><br>Marcelo Henrique Ribeiro <br> Thabata Cristine de Lima</small> | <small>13_09_2023</small>  | <small> 20_09_2023 </small> | <small> Alteração de Fluxos Alternativos </small>|\n",
    "| <small><br>Marcelo Henrique Ribeiro<br>Michelly Victoria Nonato Coelho<br>Paula Andrezza Gomes Marinho<br>Thabata Cristine de Lima</small> | <small>13_09_2023</small>  | <small> 27_09_2023 </small> | <small> Interfaces. </small> | \n",
    "| <small>Michelly Victoria Nonato Coelho</small> | <small>13_09_2023</small>  | <small> 15_10_2023 </small> | <small> Reajuste de informações. </small> |\n",
    "| <small>Thabata Cristine de Lima</small> | <small>13_09_2023</small>  | <small> 22_11_2023 </small> | <small> Revisão do documento. </small> | "
   ]
  },
  {
   "cell_type": "markdown",
   "metadata": {},
   "source": [
    "### Descrição Resumida do Caso de Uso\n",
    "<small> Este caso de uso tem por objetivo descrever as funcionalidades pertinentes ao efetuar login, tal como, logar com o usuário e senha e entrar em ao caso seguinte. </small>  <br>"
   ]
  },
  {
   "cell_type": "markdown",
   "metadata": {},
   "source": [
    "| | |\n",
    "| :------- | :------ |\n",
    "| **Atores** | Gerentes e Funcionários|  \n",
    "| **Pré_Condição** | O gerente ou funcionário prescisa ter cadastro no sistema UC001 |  \n",
    "| **Fluxo Principal** | **P01.** O funcionário informa na interface Interface001, o usuário e a senha e depois clica em entrar. <br> **P02.** O sistema apresenta na Interface005 um dashboard com as informações do dia.|\n",
    "| **Fluxo Alternativos** | **A01 [P01] Login** <br> 1. O gerente ou funcionário informa na Interface001, seu e_mail e senha e clica em ``\"Fazer login\"``. <br> 2. O sistema apresenta a Interface005. <br> **A02 [P01] Redefinição de senha** <br> 1. O funcionário ou o gerente na Interface001 podem fazer a redefinição de senha clicando em `\"Esqueci minha senha\"`. <br> 2. O sistema apresenta a Interface002 insere o e_mail e clica no botão `\"Enviar\"` código por e_mail. <br> 3. O sistema apresenta a Interface003 e insere o código recebido por e_mail no campo `\"Inserir código\"` e clica em `\"Verificar\"`. <br> 4. O sistema apresenta a Interface004 para o usuário inserir uma nova senha nos campos `\"Inserir nova senha\"` e `\"Confirmar senha\"`, logo após clica em `\"Redefinir senha\"`. <br> 5. O sistema registra as alterações. <br> 6. O caso de uso continua a execução no passo **A01**. <br> | \n",
    "| **Exceções** | **E01 [A01.1] _ Dados incorretos** <br> 1. O sistema exibe a mensagem MSG001. <br> 2. O sistema retorna a Interface001. <br> **E02 [A02.2] _ E_mail não tem cadastro na base de dados** <br> 1. O sistema exibe a mensagem MSG002. <br> 2. O sistema retorna a Interface002. <br> **E03 [A02.3] _ Código de autenticação inválido** <br> 1. O sistema exibe a mensagem MSG003. <br> 2. O sistema aramazena as tentativas de validação do código do usuário. <br> 3. O sistema retorna a Interface003. <br> **E04 [E03] _ Tentativas de validação** <br> 1. Caso o usuário tenha tentado 5 vezes validar o código enviado por e_mail o sistema deve retornar a Interface002. <br> **E05 [A02.4] _ Senhas inconpatíveis** <br> 1. Caso a senha informada nos campos `\"Inserir nova senha\"` e `\"Confirmar senha\"` sejam diferentes o sistema deve retornar a mensagem MSG004. <br> **E06 [A02.5] _ Erro interno de armazenamento de dados** <br> 1. O sistema retorna a mensagem MSG005. <br> 2. O sistema retorna a Interface004.| \n",
    "| **Pós_Condição** |A instância `\"senha\"` será atualizada caso o fluxo [A02.5] seja realizado. | \n",
    "| **Produtos Gerados** | Não se aplica| \n",
    "| **Requisitos** | 1. Os funcionários não poderão acessar o sistema fora do horário comercial. | \n",
    "| **Regras de Negócio** | O acesso ao sistema deve ser feito somente com o e_mail comercial e senha do funcionário cadastrado na empresa. | \n",
    "| **Casos de Uso Incluídos** | Não se aplica | \n",
    "| **Casos de Uso Estendidos** |  Não se aplica |"
   ]
  },
  {
   "cell_type": "markdown",
   "metadata": {},
   "source": [
    "| Listagem de Mensagens | |\n",
    "| :_______: | :______ |   \n",
    "| MSG001 | E_mail ou senha inválidos. Por favor, verifique suas informações de login. |\n",
    "| MSG002 | Não encontramos um registro correspondente ao e_mail fornecido. Verifique se você digitou corretamente ou entre em contato com o suporte. |\n",
    "| MSG003 | Código de autenticação fornecido é inválido. |\n",
    "| MSG004 | As senhas fornecidas nos campos não correspondem. Por favor, certifique_se de digitar a mesma senha nos dois campos. |"
   ]
  },
  {
   "cell_type": "markdown",
   "metadata": {},
   "source": [
    "### Protótipos de Interfaces  \n",
    "\n",
    "### Interface001 _ Login\n",
    "<br>\n",
    "\n",
    "<img src=\"img/UC001_login/Interface001_telaDeLogin.jpg\">\n",
    "\n",
    "\n",
    "### Interface002 - Recuperação de senha\n",
    "<br>\n",
    "\n",
    "<img src=\"img/UC001_login/Interface002_recuperacaoDeSenha.jpg\">\n",
    "\n",
    "### Interface003 - Verificar autenticação\n",
    "<br>\n",
    "\n",
    "<img src=\"img/UC001_login/Interface003_verificarEmail.jpg\">\n",
    "\n",
    "### Interface004 - Redefinir senha\n",
    "<br>\n",
    "\n",
    "<img src=\"img/UC001_login/Interface004_novaSenha.jpg\">"
   ]
  },
  {
   "cell_type": "markdown",
   "metadata": {},
   "source": [
    "***\n",
    "_<small> Curso Análise e Desenvolvimento de Sistemas (ADS) _ Análise Orientada a Objetos (AOOI3) _ 3o. módulo. <br>Modelo e formato elaborado por profa. Ana Paula Müller Giancoli _ BSD 2_Clause License. _ Setembro.2020.</small>_ "
   ]
  },
  {
   "cell_type": "markdown",
   "metadata": {},
   "source": [
    "<div vw class=\"enabled\">\n",
    "    <div vw_access_button class=\"active\"></div>\n",
    "    <div vw_plugin_wrapper>\n",
    "      <div class=\"vw_plugin_top_wrapper\"></div>\n",
    "    </div>\n",
    "</div>\n",
    "<script src=\"https://vlibras.gov.br/app/vlibras_plugin.js\"></script>\n",
    "<script>\n",
    "    new window.VLibras.Widget('https://vlibras.gov.br/app');\n",
    "</script>"
   ]
  }
 ],
 "metadata": {
  "kernelspec": {
   "display_name": "Python 3",
   "language": "python",
   "name": "python3"
  },
  "language_info": {
   "codemirror_mode": {
    "name": "ipython",
    "version": 3
   },
   "file_extension": ".py",
   "mimetype": "text/x-python",
   "name": "python",
   "nbconvert_exporter": "python",
   "pygments_lexer": "ipython3",
   "version": "3.9.13"
  },
  "latex_envs": {
   "LaTeX_envs_menu_present": true,
   "autoclose": false,
   "autocomplete": true,
   "bibliofile": "biblio.bib",
   "cite_by": "apalike",
   "current_citInitial": 1,
   "eqLabelWithNumbers": true,
   "eqNumInitial": 1,
   "hotkeys": {
    "equation": "Ctrl-E",
    "itemize": "Ctrl-I"
   },
   "labels_anchors": false,
   "latex_user_defs": false,
   "report_style_numbering": false,
   "user_envs_cfg": false
  }
 },
 "nbformat": 4,
 "nbformat_minor": 4
}

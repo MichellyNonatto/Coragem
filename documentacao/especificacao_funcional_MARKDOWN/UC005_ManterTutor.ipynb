{
 "cells": [
  {
   "cell_type": "markdown",
   "metadata": {},
   "source": [
    "\n",
    "***\n",
    "\n",
    "# CPC - Creche Pet Coragem \n",
    "***"
   ]
  },
  {
   "cell_type": "markdown",
   "metadata": {},
   "source": [
    "## ESPECIFICAÇÃO FUNCIONAL\n",
    "### UC005 - Manter Tutor  "
   ]
  },
  {
   "cell_type": "markdown",
   "metadata": {},
   "source": [
    "| | | | _Controle de versões_ |\n",
    "| :------- | :------: | :------: | :------ |  \n",
    "| **Nome Completo** | **Data Criação** | **Data Revisão** | **Descrição**  |\n",
    "| <small>Michelly Victoria Nonato Coelho</small> | <small> 16-10-2023 </small>  | <small> 16-10-2023 </small> | <small> Criação do documento. </small>|\n",
    "|<small>Michelly Victoria Nonato Coelho <br> Paula Andrezza Gomes Marinho</small>| <small>13-09-2023</small>| <small>03-11-2023</small>|  <small>Modificação da prototipagem</small>|\n",
    "| <small>Michelly Victoria Nonato Coelho</small> | <small> 16-10-2023 </small>  | <small> 06-12-2023 </small> | <small> Reescrita da funcionalidade CRUD em tutor. </small>|",
    "|<small>Thabata Cristine de Lima <br> Marcelo Henrique Ribeiro</small>| <small>13-09-2023</small>| <small>04-12-2023</small>|  <small>Revisão do caso de uso Manter Tutor</small>|"
   ]
  },
  {
   "cell_type": "markdown",
   "metadata": {},
   "source": [
    "### Descrição Resumida do Caso de Uso\n",
    "<small> Esse caso de uso tem como objetivo execultar as atividades de criar e pesquisar cliente. </small>"
   ]
  },
  {
   "cell_type": "markdown",
   "metadata": {},
   "source": [
    "| | |\n",
    "| :------- | :------ |\n",
    "| **Atores** | Funcionário|  \n",
    "| **Pré-Condição** | O funcionario deve estar em processo de criação de Pet do caso UC004.|  \n",
    "| **Fluxo Principal** | **P01.** O funcionário, na Interface0013 irá clicar em `\"Adicionar pet\"` e será direcionado a Interface014. <br> **P02.** O sistema retorna uma lista com informações dos clientes já cadastrados no sistema. <br> **P03.** O funcionário clica em `\"Ver Tutor\"` sendo direcionado a Interface018, retornando informações do tutor. <br> **P04.** O funcionário pode editar as informações do tutor clicando em `\"Editar tutor\"`, sendo direcionado a Interface019. <br> **P06.** O funcionário pode deletar o tutor clicando em `\"Excluir tutor\"`, direcionando para a Interface020. <br>  **P07.** O funcionário clica em `\"Vincular pet\"` direcionando a Interface014. <br> **P08.** Fim do caso.  |\n",
    "| **Fluxo Alternativos** | **A01 [P02] - Pesquisar Cliente** <br> 1. O funcionário poderá pesquisar o cliente a partir do nome, número ou pelo e-mail cadastrado. <br> 2. O sistema retorna informações conforme o solicitado. <br> **A02 [P02] - Criar novo cliente** <br> 1. Na interface Interface017, o funcionário clica em `\"Adicionar Tutor\"`. <br> 3. O sistema redireciona a Interface018. <br> 4. O funcionário preenche os campos conforme for solicitado. <br> 5. O funcionário clica em `\"Cadastrar\"`. <br> 5. O sistema registra o novo cliente e redireciona para a Interface018.<br>**A03 [P04] - Editar Tutor** 1.Na interface Interface017, o funcionário clica em `\"Editar Tutor\"` sendo direcionado para Interface019. <br> 2. O funcionário modifica as informações necessárias. <br> 3. O sistema retorna a mensagem MSG003 e retorna a Interface017.<br>**A04 [P06] - Excluir Tutor** <br> 1. O funcionário clica em `\"Excluir tutor\"`. <br> 2. O sistema retorna a MSG004. <br> 3. O sistema retorna para a Interface0000.  | \n",
    "| **Pré-Condição** | O funcionário deve estar em processo de criação de Pet do caso UC004.|  \n",
    "| **Fluxo Principal** | **P01.** O funcionário, na Interface0014 irá clicar em `\"Prosseguir\"` e será direcionado a Interface017. <br> **P02.** O sistema retorna uma lista com nome e CPF dos clientes já cadastrados no sistema. <br> **P03.** O funcionário clica em `\"Vincular ao pet\"`. <br> **P04.** O sistema registra a alteração. <br> **P05.** Fim do caso.  |\n",
    "| **Fluxo Alternativos** | **A01 [P02] - Pesquisar Cliente** <br> 1. O funcionário poderá pesquisar o cliente a partir do nome ou CPF. <br> 2. O sistema retorna informações conforme o solicitado. <br> **A02 [P02] - Criar novo cliente** <br> 1. O funcionário clica em `\"Cadastrar Tutor\"`. <br> 3. O sistema redireciona a Interface018. <br> 4. O funcionário preenche os campos conforme for solicitado. <br> 5. O funcionário clica em `\"Cadastrar\"`. <br> 5. O sistema registra o novo cliente. <br> 6. O sistema vincula o novo cliente com o novo pet.| \n",
    "| **Exceções** | **E01 [A01.1] - Tutor não encontrado** <br> 1. O sistema retorna a mensagem MSG001. <br> 2. O sistema retorna a Interface017. <br> **E02 [A02.4] - Cliente já existe** 1. O sistema retorna a mensagem MSG002. <br> 2. O sistema retorna a Interface017.| \n",
    "| **Pós-Condição** |Será pesquisado ou criado na instância cliente.| \n",
    "| **Produtos Gerados** | Não se aplica. | \n",
    "| **Requisitos** | O sistema deve registrar informações dos tutores: Nome Completo, Número de telefone, Logradouro, CEP, Documento (CPF ou RG), E-mail. <br> O sistema deve enviar relatórios de comportamento simples para o tutor via e-mail. \n",
    "| **Regras de Negócio** |  1. O tutor é a pessoa contratante do serviço. <br> 2. O tutor pode autorizar um ou mais responsáveis pelo pet.| \n",
    "| **Casos de Uso Incluídos** | Não se aplica | \n",
    "| **Casos de Uso Estendidos** | Não se aplica | "
   ]
  },
  {
   "cell_type": "markdown",
   "metadata": {},
   "source": [
    "| Listagem de Mensagens | |\n",
    "| :-------: | :------ |\n",
    "| MSG001 | O tutor não foi encontrado em nossa base de dados. |\n",
    "| MSG002 | O tutor já existe em nossa base de dados. |\n",
    "| MSG003 | Tutor editado com sucesso! |\n",
    "| MSG004 | Tutor deletado com sucesso! |"
   ]
  },
  {
   "cell_type": "markdown",
   "metadata": {},
   "source": [
    "### Protótipos de Interfaces  \n",
    "\n",
    "### Interface013 - Pets\n",
    "![Interface0013_pets.jpg](attachment:Interface0013_pets.jpg)\n",
    "\n",
    "### Interface017 - Vincular Cliente\n",
    "<img src=\"img/UC005_manterTutor/Interface017.png\">"
   ]
  },
  {
   "cell_type": "markdown",
   "metadata": {},
   "source": [
    "### Interface018- Criar Cliente\n",
    "<img src=\"img/UC005_manterTutor/Interface018.png\">"
   ]
  },
  {
   "cell_type": "markdown",
   "metadata": {},
   "source": [
    "### Interface019- Editar Cliente\n",
    "<img src=\"img/UC005_manterTutor/Interface019.png\">"
   ]
  },
  {
   "cell_type": "markdown",
   "metadata": {},
   "source": [
    "### Interface020- Deletar Cliente\n",
    "<img src=\"img/UC005_manterTutor/Interface020.png\">"
   ]
  },
  {
   "cell_type": "markdown",
   "metadata": {},
   "source": [
    "***\n",
    "_<small> Curso Análise e Desenvolvimento de Sistemas (ADS) - Análise Orientada a Objetos (AOOI3) - 3o. módulo. <br>Modelo e formato elaborado por profa. Ana Paula Müller Giancoli - BSD 2-Clause License. - Setembro.2020.</small>_ "
   ]
  },
  {
   "cell_type": "markdown",
   "metadata": {},
   "source": [
    "<div vw class=\"enabled\">\n",
    "    <div vw-access-button class=\"active\"></div>\n",
    "    <div vw-plugin-wrapper>\n",
    "      <div class=\"vw-plugin-top-wrapper\"></div>\n",
    "    </div>\n",
    "</div>\n",
    "<script src=\"https://vlibras.gov.br/app/vlibras-plugin.js\"></script>\n",
    "<script>\n",
    "    new window.VLibras.Widget('https://vlibras.gov.br/app');\n",
    "</script>"
   ]
  }
 ],
 "metadata": {
  "kernelspec": {
   "display_name": "Python 3 (ipykernel)",
   "language": "python",
   "name": "python3"
  },
  "language_info": {
   "codemirror_mode": {
    "name": "ipython",
    "version": 3
   },
   "file_extension": ".py",
   "mimetype": "text/x-python",
   "name": "python",
   "nbconvert_exporter": "python",
   "pygments_lexer": "ipython3",
   "version": "3.9.13"
  },
  "latex_envs": {
   "LaTeX_envs_menu_present": true,
   "autoclose": false,
   "autocomplete": true,
   "bibliofile": "biblio.bib",
   "cite_by": "apalike",
   "current_citInitial": 1,
   "eqLabelWithNumbers": true,
   "eqNumInitial": 1,
   "hotkeys": {
    "equation": "Ctrl-E",
    "itemize": "Ctrl-I"
   },
   "labels_anchors": false,
   "latex_user_defs": false,
   "report_style_numbering": false,
   "user_envs_cfg": false
  }
 },
 "nbformat": 4,
 "nbformat_minor": 4
}

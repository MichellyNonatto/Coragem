{
 "cells": [
  {
   "cell_type": "markdown",
   "metadata": {},
   "source": [
    "***\n",
    "\n",
    "# CPC - Creche Pet Coragem\n",
    "***"
   ]
  },
  {
   "cell_type": "markdown",
   "metadata": {},
   "source": [
    "## ESPECIFICAÇÃO FUNCIONAL\n",
    "### UC004 - Mater Pet"
   ]
  },
  {
   "cell_type": "markdown",
   "metadata": {},
   "source": [
    "| | | | _Controle de versões_ |\n",
    "| :------- | :------: | :------: | :------ |  \n",
    "| **Nome Completo** | **Data Criação** | **Data Revisão** | **Descrição**  |\n",
    "| <small>Michelly Victoria Nonato Coelho</small> | <small> 16-10-2023</small>  | <small> 16-10-2023 </small> | <small> Criação do documento. </small>|\n",
    "|<small>Michelly Victoria Nonato Coelho <br> Paula Andrezza Gomes Marinho</small>| <small>13-09-2023</small>| <small>03-11-2023</small>|  <small>Modificação da prototipagem</small>|"
   ]
  },
  {
   "cell_type": "markdown",
   "metadata": {},
   "source": [
    "### Descrição Resumida do Caso de Uso\n",
    "<small> Este caso de uso tem por objetivo efetuar atividades CRUD com os dados do pet. </small>"
   ]
  },
  {
   "cell_type": "markdown",
   "metadata": {},
   "source": [
    "| | |\n",
    "| :------- | :------ |\n",
    "| **Atores** | Funcionário|  \n",
    "| **Pré-Condição** | O funcionário deve estar autenticado no caso UC001. |  \n",
    "| **Fluxo Principal** | **P01.** Na Interface005 o funcionário irá clicar em `\"Pet\"` sendo direcionado a Interface013. <br> **P02.** O sistema irá retornar a listas de pets existente na base de dados. <br> **P03.** O funcionário poderá atualizar informações do pet. <br> **P04.** O funcionário poderá cadastrar um novo pet em `\"Cadastrar Pet\"`, sendo direcionado a 5. <br> **P05.** O caso de uso termina. |\n",
    "| **Fluxo Alternativos** | **A01 [P02] - Pesquisar pet** <br> 1. O funcionário poderá filtrar as informações da lista pelo nome do pet, raça e espécie. <br> 2. Ao clicar no pet o sistema irá direcionar a Interface015. <br> 3. O sistema irá retornar informações do pet com o nome, endereço e número de telefone do seu tutor. <br> 4. O funcionário clica em voltar. <br> 5. O sistema retorna a Interface013. <br> **A02 [P04] Cadastrar novo pet** <br> 1. O funcionário preencherá as informações do pet conforme for estruturado a base de dados. <br> 2. O sistema irá executar o caso `\"UC005 - Manter cliente\"`.  <br> 3. O sistema retorna a mensagem MSG001. <br> 4. O sistema retorna a Interface013. <br> **A03 [P03] - Atualizar pet** <br> 1. O funcionário poderá clicar em `\"Edita Pet\"`. <br> 2. O sistema direciona a Interface016. <br> 3. O funcionário clica em `\"Confirmar alterações\"`. <br> 4. O sistema retorna a Interface013.| \n",
    "| **Exceções** | **E01 [A01.1] - Pet não encontrado** <br> 1. O sistema retorna a mensagem MSG002. <br> 2. O sistema retorna a Interface013. <br> **E02 [A02.1] - Pet já cadastrado** <br> 1. O sistema retorna a mensagem MSG003. <br> 2. O sistema retorna a Interface013| \n",
    "| **Pós-Condição** | Instancia Pet atualizada ou criada.| \n",
    "| **Produtos Gerados** | Relatório de animais ativos na empresa.| \n",
    "| **Requisitos** | O sistema deve cadastrar o animal com os seguintes dados: Nome, Idade, Gênero, Raça, Histórico de saúde, Vacinação, Desparasitação, Espécie, Restrições alimentares, restrições médicas.\n",
    "| **Regras de Negócio** | Não se aplica. | \n",
    "| **Casos de Uso Incluídos** | Não se aplica.| \n",
    "| **Casos de Uso Estendidos** |  Não se aplica.| "
   ]
  },
  {
   "cell_type": "markdown",
   "metadata": {},
   "source": [
    "| Listagem de Mensagens | |\n",
    "| :-------: | :------ |  \n",
    "| MSG001 | \"Auau!\" Um novo pet foi cadastrado.|\n",
    "| MSG002 | Esse Pet não está em nossa base de dados.|\n",
    "| MSG003 | As informações desse Pet já foram cadastradas.|"
   ]
  },
  {
   "cell_type": "markdown",
   "metadata": {},
   "source": [
    "### Protótipos de Interfaces  \n",
    "\n",
    "### Interface013 - Pets\n",
    "<br>\n",
    "<img src=\"img/UC004 (manterPet)/Interface0013 (pets).jpg\">\n",
    "\n",
    "### Interface014 - Criar Pet\n",
    "<br>\n",
    "<img src=\"img/UC004 (manterPet)/Interface014 (adicionarNovoPet).jpg\">\n",
    "\n",
    "### Interface015 - Informações do Pet\n",
    "<br>\n",
    "<img src=\"img/UC004 (manterPet)/Interface015 (informacoesDoPet).jpg\">\n",
    "\n",
    "### Interface016 - Editar do Pet\n",
    "<br>\n",
    "<img src=\"img/UC004 (manterPet)/Interface016 (editarPet).jpg\">"
   ]
  },
  {
   "cell_type": "markdown",
   "metadata": {},
   "source": [
    "***\n",
    "_<small> Curso Análise e Desenvolvimento de Sistemas (ADS) - Análise Orientada a Objetos (AOOI3) - 3o. módulo. <br>Modelo e formato elaborado por profa. Ana Paula Müller Giancoli - BSD 2-Clause License. - Setembro.2020.</small>_ "
   ]
  },
  {
   "cell_type": "markdown",
   "metadata": {},
   "source": [
    "<div vw class=\"enabled\">\n",
    "    <div vw-access-button class=\"active\"></div>\n",
    "    <div vw-plugin-wrapper>\n",
    "      <div class=\"vw-plugin-top-wrapper\"></div>\n",
    "    </div>\n",
    "</div>\n",
    "<script src=\"https://vlibras.gov.br/app/vlibras-plugin.js\"></script>\n",
    "<script>\n",
    "    new window.VLibras.Widget('https://vlibras.gov.br/app');\n",
    "</script>"
   ]
  }
 ],
 "metadata": {
  "kernelspec": {
   "display_name": "Python 3",
   "language": "python",
   "name": "python3"
  },
  "language_info": {
   "codemirror_mode": {
    "name": "ipython",
    "version": 3
   },
   "file_extension": ".py",
   "mimetype": "text/x-python",
   "name": "python",
   "nbconvert_exporter": "python",
   "pygments_lexer": "ipython3",
   "version": "3.9.13"
  },
  "latex_envs": {
   "LaTeX_envs_menu_present": true,
   "autoclose": false,
   "autocomplete": true,
   "bibliofile": "biblio.bib",
   "cite_by": "apalike",
   "current_citInitial": 1,
   "eqLabelWithNumbers": true,
   "eqNumInitial": 1,
   "hotkeys": {
    "equation": "Ctrl-E",
    "itemize": "Ctrl-I"
   },
   "labels_anchors": false,
   "latex_user_defs": false,
   "report_style_numbering": false,
   "user_envs_cfg": false
  }
 },
 "nbformat": 4,
 "nbformat_minor": 4
}

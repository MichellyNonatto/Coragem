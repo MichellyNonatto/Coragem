{
 "cells": [
  {
   "cell_type": "markdown",
   "metadata": {},
   "source": [
    "***\n",
    "\n",
    "# CPC - Creche Pet Coragem\n",
    "\n",
    "***"
   ]
  },
  {
   "cell_type": "markdown",
   "metadata": {},
   "source": [
    "## ESPECIFICAÇÃO FUNCIONAL\n",
    "### UC003 - Consultar pagamento "
   ]
  },
  {
   "cell_type": "markdown",
   "metadata": {},
   "source": [
    "| | | | _Controle de versões_ |\n",
    "| :------- | :------: | :------: | :------ |  \n",
    "| **Nome Completo** | **Data Criação** | **Data Revisão** | **Descrição**  |\n",
    "| <small> Michelly Victoria Nonato Coelho </small> | <small> 16-10-2023  </small>  | <small> 16-10-2023 | <small> Criação do documento. </small>|\n",
    "|<small>Michelly Victoria Nonato Coelho <br> Paula Andrezza Gomes Marinho</small>| <small>13-09-2023</small>| <small>03-11-2023</small>|  <small>Modificação da prototipagem</small>|\n",
    "|<small>Thabata Cristine de Lima <br> Marcelo Henrique Ribeiro</small>| <small>13-09-2023</small>| <small>04-12-2023</small>|  <small>Revisão do caso de uso consultar pagamento</small>|"
   ]
  },
  {
   "cell_type": "markdown",
   "metadata": {},
   "source": [
    "### Descrição Resumida do Caso de Uso\n",
    "<small> O propósito deste caso é realizar a verificação de pagamentos efetuados, pendentes e em atraso, visando manter a credibilidade de pagamento por parte dos clientes contratantes.</small>"
   ]
  },
  {
   "cell_type": "markdown",
   "metadata": {},
   "source": [
    "| | |\n",
    "| :------- | :------ |\n",
    "| **Atores** | Gerente|  \n",
    "| **Pré-Condição** | 1. O responsável pelo setor financeiro deve estar autenticado para efetuar a consulta. <br> 2. Deve haver clientes registrados na base de dados.  |  \n",
    "| **Fluxo Principal** | **P01.** Na Interface005 o gerente deve clicar em `\"Financeiro\"` e será direcionado a Interface011. <br> **P02.** Na Interface011 o sistema deve retornar uma tabela ordenada de atrasos dos pagamentos pendentes. Quanto tempo está atrasado, nome e CPF do contratante. <br> **P03.** Na Interface011 o gerente pode selecionar em `\"Desligamento de serviço\"`, caso seja necessário. <br> **P04.** O sistema retorna a Interface012 com a MSG001. <br> **P05.** O sistema registra a alteração e realiza o caso de deletar no caso UC004.<br> **P06.** O caso de uso termina.|\n",
    "| **Fluxo Alternativos** | **A01 [P02] - Consultar pagamentos em atraso**<br> 1. O gerente poderá fazer uma consulta pelo nome e CPF do cliente. <br> 2. O sistema filtra conforme as informações indicadas pelo gerente. <br> 3. O caso de uso contínua a exeção [P02]. <br> **A02 [P03] - Arquivar cliente** <br> 1. O sistema retorna a Interface012. <br> 2. O gerente pode cancelar sua ação clicando em `\"Cancelar\"`. <br> 3. O gerente pode confirmar sua ação clicando em `\"Confirmar`. <br> 4. O sistema retorna a Interface011.| \n",
    "| **Exceções** | **E01 [A01.1] - Cliente não encontrado** <br> 1. O sistema retorna a mensagem MSG002. <br> 2. O sistema retorna a Interface011. <br> **E02 [A02.2] - Desligamento já realizado** <br> 1. O sistema retorna a mensagem MSG003. <br> 2. O sistema retorna a Interface011.| \n",
    "| **Pós-Condição** | A instância de cliente pode ser deletada. | \n",
    "| **Produtos Gerados** | Relatório de clientes desligados da empresa.| \n",
    "| **Requisitos** | 1. O sistema deve registrar a forma de pagamento que será realizada pelo cliente; <br> 2. O sistema deve registrar o pacote de serviços escolhido pelo cliente. | \n",
    "| **Regras de Negócio** | Não se aplica. | \n",
    "| **Casos de Uso Incluídos** | Não se aplica. | \n",
    "| **Casos de Uso Estendidos** | Não se aplica. | "
   ]
  },
  {
   "cell_type": "markdown",
   "metadata": {},
   "source": [
    "| Listagem de Mensagens | |\n",
    "| :-------: | :------ |\n",
    "| MSG001 | O sistema procederá com o arquivamento dos dados deste cliente, indicando que o desligamento do serviço foi concluído. |\n",
    "| MSG002 | O cliente em questão não apresenta pendências ou não está registrado em nossa base de dados. |\n",
    "| MSG003 |Os dados desse cliente já foram arquivados. |"
   ]
  },
  {
   "cell_type": "markdown",
   "metadata": {},
   "source": [
    "### Protótipos de Interfaces  \n",
    "\n",
    "### Interface011 - Financeiro\n",
    "<img src=\"img/UC003_financeiro/Interface011.png\">"
   ]
  },
  {
   "cell_type": "markdown",
   "metadata": {},
   "source": [
    "### Interface012 - Arquivar cliente\n",
    "<img src=\"img/UC003_financeiro/Interface012.png\">"
   ]
  },
  {
   "cell_type": "markdown",
   "metadata": {},
   "source": [
    "***\n",
    "_<small> Curso Análise e Desenvolvimento de Sistemas (ADS) - Análise Orientada a Objetos (AOOI3) - 3o. módulo. <br>Modelo e formato elaborado por profa. Ana Paula Müller Giancoli - BSD 2-Clause License. - Setembro.2020.</small>_ "
   ]
  },
  {
   "cell_type": "markdown",
   "metadata": {},
   "source": [
    "<div vw class=\"enabled\">\n",
    "    <div vw-access-button class=\"active\"></div>\n",
    "    <div vw-plugin-wrapper>\n",
    "      <div class=\"vw-plugin-top-wrapper\"></div>\n",
    "    </div>\n",
    "</div>\n",
    "<script src=\"https://vlibras.gov.br/app/vlibras-plugin.js\"></script>\n",
    "<script>\n",
    "    new window.VLibras.Widget('https://vlibras.gov.br/app');\n",
    "</script>"
   ]
  }
 ],
 "metadata": {
  "kernelspec": {
   "display_name": "Python 3 (ipykernel)",
   "language": "python",
   "name": "python3"
  },
  "language_info": {
   "codemirror_mode": {
    "name": "ipython",
    "version": 3
   },
   "file_extension": ".py",
   "mimetype": "text/x-python",
   "name": "python",
   "nbconvert_exporter": "python",
   "pygments_lexer": "ipython3",
   "version": "3.9.13"
  },
  "latex_envs": {
   "LaTeX_envs_menu_present": true,
   "autoclose": false,
   "autocomplete": true,
   "bibliofile": "biblio.bib",
   "cite_by": "apalike",
   "current_citInitial": 1,
   "eqLabelWithNumbers": true,
   "eqNumInitial": 1,
   "hotkeys": {
    "equation": "Ctrl-E",
    "itemize": "Ctrl-I"
   },
   "labels_anchors": false,
   "latex_user_defs": false,
   "report_style_numbering": false,
   "user_envs_cfg": false
  }
 },
 "nbformat": 4,
 "nbformat_minor": 4
}

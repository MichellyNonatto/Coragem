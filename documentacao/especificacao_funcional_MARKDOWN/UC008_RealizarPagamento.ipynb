{
 "cells": [
  {
   "cell_type": "markdown",
   "metadata": {},
   "source": [
    "***\n",
    "\n",
    "# CPC - Creche Pet Coragem\n",
    "\n",
    "***"
   ]
  },
  {
   "cell_type": "markdown",
   "metadata": {},
   "source": [
    "## ESPECIFICAÇÃO FUNCIONAL\n",
    "### UC008 - Realizar Pagamento"
   ]
  },
  {
   "cell_type": "markdown",
   "metadata": {},
   "source": [
    "| | | | _Controle de versões_ |\n",
    "| :------- | :------: | :------: | :------ |  \n",
    "| **Nome Completo** | **Data Criação** | **Data Revisão** | **Descrição**  |\n",
    "| <small>Michelly Victoria Nonato Coelho</small> | <small> 17-10-2023</small>  | <small> 17-10-2023 </small> | <small> Criação do documento. </small>|"
   ]
  },
  {
   "cell_type": "markdown",
   "metadata": {},
   "source": [
    "### Descrição Resumida do Caso de Uso\n",
    "<small> Esse caso de uso tem como objetivo armazenar a forma de pagamento feita pelo tutor sobre os serviços. </small>"
   ]
  },
  {
   "cell_type": "markdown",
   "metadata": {},
   "source": [
    "| | |\n",
    "| :------- | :------ |\n",
    "| **Atores** | Tutor|  \n",
    "| **Pré-Condição** | O sistema deve ter em seu banco de dados o endereço de e-mail do tutor. <br> O pet deve estar cadastrado em um dos serviços. |  \n",
    "| **Fluxo Principal** | **P01.** O sistema faz o levantamento de serviços que um determinado pet está cadastrado. <br> **P02.** O sistema calcula o total monetario dos serviços fornecidos ao pet. <br> **P03.** O sistema faz o levantamento das informações do tutor responsável pelo pet. <br> **P04.** O sistema cria um documento com as informações dos serviços que foram fornecidos. <br> **P05.** O sistema envia um boleto via e-mail para o tutor. <br> **P06.** Fim do caso UC008.|\n",
    "| **Fluxo Alternativos** | **A01 [P05] - Data de envio** <br> 1. O sistema será programado para enviar o boleto em um determinado dia. <br> 2. O sistema atualiza a tabela do caso UC003 como não pago e a data de envio. <br> 3. O sistema retorna ao seu fluxo. | \n",
    "| **Exceções** | Não se aplica| \n",
    "| **Pós-Condição** | Uma instância pagamento é criada.| \n",
    "| **Produtos Gerados** | Tabela de pagamentos. | \n",
    "| **Requisitos** | O sistema deve registrar a forma de pagamento que será realizada pelo cliente. <br> O sistema deve registrar o pacote de serviços escolhido pelo cliente. | \n",
    "| **Regras de Negócio** | O tutor é a pessoa contratante do serviço. | \n",
    "| **Casos de Uso Incluídos** | Não se aplica | \n",
    "| **Casos de Uso Estendidos** | Não se aplica | "
   ]
  },
  {
   "cell_type": "markdown",
   "metadata": {},
   "source": [
    "***\n",
    "_<small> Curso Análise e Desenvolvimento de Sistemas (ADS) - Análise Orientada a Objetos (AOOI3) - 3o. módulo. <br>Modelo e formato elaborado por profa. Ana Paula Müller Giancoli - BSD 2-Clause License. - Setembro.2020.</small>_ "
   ]
  },
  {
   "cell_type": "markdown",
   "metadata": {},
   "source": [
    "<div vw class=\"enabled\">\n",
    "    <div vw-access-button class=\"active\"></div>\n",
    "    <div vw-plugin-wrapper>\n",
    "      <div class=\"vw-plugin-top-wrapper\"></div>\n",
    "    </div>\n",
    "</div>\n",
    "<script src=\"https://vlibras.gov.br/app/vlibras-plugin.js\"></script>\n",
    "<script>\n",
    "    new window.VLibras.Widget('https://vlibras.gov.br/app');\n",
    "</script>"
   ]
  }
 ],
 "metadata": {
  "kernelspec": {
   "display_name": "Python 3",
   "language": "python",
   "name": "python3"
  },
  "language_info": {
   "codemirror_mode": {
    "name": "ipython",
    "version": 3
   },
   "file_extension": ".py",
   "mimetype": "text/x-python",
   "name": "python",
   "nbconvert_exporter": "python",
   "pygments_lexer": "ipython3",
   "version": "3.7.3"
  },
  "latex_envs": {
   "LaTeX_envs_menu_present": true,
   "autoclose": false,
   "autocomplete": true,
   "bibliofile": "biblio.bib",
   "cite_by": "apalike",
   "current_citInitial": 1,
   "eqLabelWithNumbers": true,
   "eqNumInitial": 1,
   "hotkeys": {
    "equation": "Ctrl-E",
    "itemize": "Ctrl-I"
   },
   "labels_anchors": false,
   "latex_user_defs": false,
   "report_style_numbering": false,
   "user_envs_cfg": false
  }
 },
 "nbformat": 4,
 "nbformat_minor": 4
}
